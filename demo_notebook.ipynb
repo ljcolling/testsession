{
 "cells": [
  {
   "cell_type": "code",
   "execution_count": 1,
   "metadata": {},
   "outputs": [],
   "source": [
    "bayesplay::loadpackages()"
   ]
  },
  {
   "cell_type": "markdown",
   "metadata": {},
   "source": [
    "# About the online notebooks\n",
    "\n",
    "This is just to give you a brief rundown of the notebooks work. \n",
    "\n",
    "These notebooks will allow me to mixed formatted text and code, and they will allow you to follow along with the examples as I explain them and to write code for the activities. \n",
    "\n",
    "For the recorded sessions themselves, all the code chunks will be numbered, so you know which chunk I'm referring to as I explain them.\n",
    "\n",
    "All the notebooks will have the same basic layout. They'll start with a code chunk like the one above, which will load all the packages you need to run the examples and to write code for any of the activities. So make sure you always run that chunk first, before proceeding with the rest of the notebook. \n",
    "\n",
    "The most important to note about these notebooks is that there is **no persistent storage**. They will also **time out** after a set amount of time. This means that if you don't want to lose your work, make sure you have a backup of any code you write or edit. Probably the easiest way to do this, is just to cut and paste it into a local text editor or to download the notebooks onto your local machine. "
   ]
  },
  {
   "cell_type": "code",
   "execution_count": null,
   "metadata": {},
   "outputs": [],
   "source": [
    "# 1\n",
    "\n",
    "# Example code chunk\n",
    "# Run this code chunk and it will print hello\n",
    "\n",
    "print(\"Hello!\")"
   ]
  }
 ],
 "metadata": {
  "kernelspec": {
   "display_name": "R",
   "language": "R",
   "name": "ir"
  },
  "language_info": {
   "codemirror_mode": "r",
   "file_extension": ".r",
   "mimetype": "text/x-r-source",
   "name": "R",
   "pygments_lexer": "r",
   "version": "3.6.1"
  }
 },
 "nbformat": 4,
 "nbformat_minor": 4
}
